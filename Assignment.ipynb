{
    "cells": [
        {
            "metadata": {
                "collapsed": true
            },
            "cell_type": "markdown",
            "source": "# My Jupyter Notebook on IBM Watson Studio"
        },
        {
            "metadata": {},
            "cell_type": "markdown",
            "source": "**Name: Vikrant Singh Jamwal**\n\nData Analyst Enthusiast"
        },
        {
            "metadata": {},
            "cell_type": "markdown",
            "source": "_I am interested in data science because i like to explore and dig deep in knowing the insights of a project. One cannot know everything, there is always something missed, and that curiosity makes me persue a career in data science_"
        },
        {
            "metadata": {},
            "cell_type": "markdown",
            "source": "### Finding the bigger number\n"
        },
        {
            "metadata": {
                "scrolled": true
            },
            "cell_type": "code",
            "source": "a= int(input(\"Enter First number\"))\nb= int(input(\"Enter Second number\"))\nif a >b:\n    print(\"Bigger number is\" + \" \", a)\nelse:\n    print(\"Bigger number is \" + \" \", b)",
            "execution_count": 5,
            "outputs": [
                {
                    "output_type": "stream",
                    "name": "stdout",
                    "text": "Enter First number20\nEnter Second number10\nBigger number is  20\n"
                }
            ]
        },
        {
            "metadata": {},
            "cell_type": "markdown",
            "source": "I will try to add these three things\n\n  * Bullet List\n  1. Ordered list\n  - Table\n  \n ---\n \n | S.n | Name |\n |-----|------|\n | 1. | Vikrant|\n | 2. | Bhanu |\n \n   * Link\n    [Google]{www.google.}  \n    \n "
        },
        {
            "metadata": {},
            "cell_type": "code",
            "source": "",
            "execution_count": null,
            "outputs": []
        }
    ],
    "metadata": {
        "kernelspec": {
            "name": "python3",
            "display_name": "Python 3.9",
            "language": "python"
        },
        "language_info": {
            "name": "python",
            "version": "3.9.12",
            "mimetype": "text/x-python",
            "codemirror_mode": {
                "name": "ipython",
                "version": 3
            },
            "pygments_lexer": "ipython3",
            "nbconvert_exporter": "python",
            "file_extension": ".py"
        }
    },
    "nbformat": 4,
    "nbformat_minor": 1
}