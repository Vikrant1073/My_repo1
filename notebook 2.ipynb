{
    "cells": [
        {
            "metadata": {},
            "cell_type": "code",
            "source": "\nimport ibmos2spark, os\n# @hidden_cell\ncredentials = {\n    'endpoint': 'https://s3.private.us.cloud-object-storage.appdomain.cloud',\n    'service_id': 'iam-ServiceId-2b03c9c2-84fb-4155-b7f0-84f6cef447d1',\n    'iam_service_endpoint': 'https://iam.cloud.ibm.com/oidc/token',\n    'api_key': 'dzWelzZUJrEPlcgCVI9--Es0iZJZ5N1lt26AbSvlPQrI'\n}\n\nconfiguration_name = 'os_d5fc7dd532134c00a1eb61e063fc8d0b_configs'\ncos = ibmos2spark.CloudObjectStorage(sc, credentials, configuration_name, 'bluemix_cos')\n\nfrom pyspark.sql import SparkSession\nspark = SparkSession.builder.getOrCreate()\ndf_data_1 = spark.read\\\n  .format('org.apache.spark.sql.execution.datasources.csv.CSVFileFormat')\\\n  .option('header', 'true')\\\n  .load(cos.url('P1-OfficeSupplies.csv', 'myproject-donotdelete-pr-kf8nws8hbyynm3'))\ndf_data_1.take(5)\n",
            "execution_count": 2,
            "outputs": [
                {
                    "output_type": "execute_result",
                    "execution_count": 2,
                    "data": {
                        "text/plain": "[Row(OrderDate='4-Jul-2014', Region='East', Rep='Richard', Item='Pen Set', Units='62', Unit Price='4.99'),\n Row(OrderDate='12-Jul-2014', Region='East', Rep='Nick', Item='Binder', Units='29', Unit Price='1.99'),\n Row(OrderDate='21-Jul-2014', Region='Central', Rep='Morgan', Item='Pen Set', Units='55', Unit Price='12.49'),\n Row(OrderDate='29-Jul-2014', Region='East', Rep='Susan', Item='Binder', Units='81', Unit Price='19.99'),\n Row(OrderDate='7-Aug-2014', Region='Central', Rep='Matthew', Item='Pen Set', Units='42', Unit Price='23.95')]"
                    },
                    "metadata": {}
                }
            ]
        },
        {
            "metadata": {},
            "cell_type": "code",
            "source": "",
            "execution_count": null,
            "outputs": []
        },
        {
            "metadata": {},
            "cell_type": "code",
            "source": "",
            "execution_count": null,
            "outputs": []
        }
    ],
    "metadata": {
        "kernelspec": {
            "name": "python39",
            "display_name": "Python 3.9 with Spark",
            "language": "python3"
        },
        "language_info": {
            "name": "python",
            "version": "3.9.12",
            "mimetype": "text/x-python",
            "codemirror_mode": {
                "name": "ipython",
                "version": 3
            },
            "pygments_lexer": "ipython3",
            "nbconvert_exporter": "python",
            "file_extension": ".py"
        }
    },
    "nbformat": 4,
    "nbformat_minor": 1
}